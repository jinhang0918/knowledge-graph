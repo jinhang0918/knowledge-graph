{
 "cells": [
  {
   "cell_type": "code",
   "execution_count": 17,
   "metadata": {},
   "outputs": [
    {
     "name": "stderr",
     "output_type": "stream",
     "text": [
      "/tmp/ipykernel_1237087/1402142304.py:4: DtypeWarning: Columns (17,18,35,36,37,38,40,41,42,51,52,53,62,63) have mixed types. Specify dtype option on import or set low_memory=False.\n",
      "  Generator = pd.read_csv(Generator_path)\n"
     ]
    }
   ],
   "source": [
    "# 读取文件，提取其中德克萨斯州的数据，保存到新文件中\n",
    "import pandas as pd\n",
    "Generator_path = '/home/lijh/knowledge-graph/raw_data/Generator.csv'\n",
    "Generator = pd.read_csv(Generator_path)\n",
    "Generator_TX = Generator[Generator['State'] == 'TX']\n",
    "Generator_TX.to_csv('/home/lijh/knowledge-graph/TX_data/Generator_TX.csv', index=False)\n",
    "\n",
    "Solar_path = '/home/lijh/knowledge-graph/raw_data/Solar.csv'\n",
    "Solar = pd.read_csv(Solar_path)\n",
    "Solar_TX = Solar[Solar['State'] == 'TX']\n",
    "Solar_TX.to_csv('/home/lijh/knowledge-graph/TX_data/Solar_TX.csv', index=False)\n",
    "\n",
    "Wind_path = '/home/lijh/knowledge-graph/raw_data/Wind.csv'\n",
    "Wind = pd.read_csv(Wind_path)\n",
    "Wind_TX = Wind[Wind['State'] == 'TX']\n",
    "Wind_TX.to_csv('/home/lijh/knowledge-graph/TX_data/Wind_TX.csv', index=False)\n",
    "\n",
    "Energy_Storage_path = '/home/lijh/knowledge-graph/raw_data/Energy_Storage.csv' \n",
    "Energy_Storage = pd.read_csv(Energy_Storage_path)\n",
    "Energy_Storage_TX = Energy_Storage[Energy_Storage['State'] == 'TX']\n",
    "Energy_Storage_TX.to_csv('/home/lijh/knowledge-graph/TX_data/Energy_Storage_TX.csv', index=False)\n",
    "\n",
    "Multifuel_path = '/home/lijh/knowledge-graph/raw_data/Multifuel.csv'\n",
    "Multifuel = pd.read_csv(Multifuel_path)\n",
    "Multifuel_TX = Multifuel[Multifuel['State'] == 'TX']\n",
    "Multifuel_TX.to_csv('/home/lijh/knowledge-graph/TX_data/Multifuel_TX.csv', index=False)"
   ]
  },
  {
   "cell_type": "code",
   "execution_count": 18,
   "metadata": {},
   "outputs": [],
   "source": [
    "# 删除Generator_TX中与Solar_TX, Wind_TX, Energy_Storage, Multifuel_TX中重复的行\n",
    "dfs = [Solar_TX, Wind_TX, Energy_Storage_TX, Multifuel_TX]\n",
    "for df in dfs:\n",
    "    Generator_TX = Generator_TX[~Generator_TX[['Technology', 'Plant Name', 'Generator ID']].apply(tuple, 1).isin(df[['Technology', 'Plant Name', 'Generator ID']].apply(tuple, 1))]\n",
    "Generator_TX.to_csv('/home/lijh/knowledge-graph/TX_data/Other_generator_TX.csv', index=False)"
   ]
  }
 ],
 "metadata": {
  "kernelspec": {
   "display_name": "kg",
   "language": "python",
   "name": "python3"
  },
  "language_info": {
   "codemirror_mode": {
    "name": "ipython",
    "version": 3
   },
   "file_extension": ".py",
   "mimetype": "text/x-python",
   "name": "python",
   "nbconvert_exporter": "python",
   "pygments_lexer": "ipython3",
   "version": "3.9.20"
  }
 },
 "nbformat": 4,
 "nbformat_minor": 2
}
